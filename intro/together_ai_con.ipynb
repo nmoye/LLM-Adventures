{
 "cells": [
  {
   "cell_type": "code",
   "execution_count": 1,
   "id": "67d885a0-9879-46a8-af8c-33567f8ea9e1",
   "metadata": {},
   "outputs": [],
   "source": [
    "import os\n",
    "from dotenv import load_dotenv\n",
    "from together import Together"
   ]
  },
  {
   "cell_type": "code",
   "execution_count": 2,
   "id": "e5f4dada-c426-4001-9cd4-0fc671b6054d",
   "metadata": {},
   "outputs": [],
   "source": [
    "# Load environment variables from .env file\n",
    "load_dotenv()\n",
    "api_key= os.getenv(\"TOGETHER_API_KEY\")"
   ]
  },
  {
   "cell_type": "code",
   "execution_count": 3,
   "id": "3cd7062b-1698-4875-9887-3a058639fef8",
   "metadata": {},
   "outputs": [],
   "source": [
    "client = Together(api_key=api_key)"
   ]
  },
  {
   "cell_type": "code",
   "execution_count": 4,
   "id": "f059606c-805b-4e44-9644-a58e548a294c",
   "metadata": {},
   "outputs": [],
   "source": [
    "response = client.chat.completions.create(\n",
    "    model=\"meta-llama/Llama-3-70b-chat-hf\",\n",
    "    messages=[{\"role\": \"user\", \"content\": \"Whats good?\"}],\n",
    ")"
   ]
  },
  {
   "cell_type": "code",
   "execution_count": 5,
   "id": "79cf3d77-7056-483e-b160-513a60610546",
   "metadata": {},
   "outputs": [
    {
     "data": {
      "text/plain": [
       "ChatCompletionResponse(id='897f824a4e5f4510-TXL', object=<ObjectType.ChatCompletion: 'chat.completion'>, created=1719093603, model='meta-llama/Llama-3-70b-chat-hf', choices=[ChatCompletionChoicesData(index=0, logprobs=None, finish_reason=<FinishReason.StopSequence: 'stop'>, message=ChatCompletionMessage(role=<MessageRole.ASSISTANT: 'assistant'>, content=\"Not much! Just hanging out and ready to chat with you. How about you? How's your day going so far?\", tool_calls=None), seed=13164380092024773324)], prompt=[], usage=UsageData(prompt_tokens=13, completion_tokens=26, total_tokens=39))"
      ]
     },
     "execution_count": 5,
     "metadata": {},
     "output_type": "execute_result"
    }
   ],
   "source": [
    "response.choices[0]"
   ]
  },
  {
   "cell_type": "code",
   "execution_count": null,
   "id": "3f18d14e-b751-4f1e-bf42-6490c3514824",
   "metadata": {},
   "outputs": [],
   "source": []
  }
 ],
 "metadata": {
  "kernelspec": {
   "display_name": "Python 3 (ipykernel)",
   "language": "python",
   "name": "python3"
  },
  "language_info": {
   "codemirror_mode": {
    "name": "ipython",
    "version": 3
   },
   "file_extension": ".py",
   "mimetype": "text/x-python",
   "name": "python",
   "nbconvert_exporter": "python",
   "pygments_lexer": "ipython3",
   "version": "3.11.7"
  }
 },
 "nbformat": 4,
 "nbformat_minor": 5
}
